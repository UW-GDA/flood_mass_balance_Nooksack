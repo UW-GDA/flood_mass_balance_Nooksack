{
 "cells": [
  {
   "cell_type": "code",
   "execution_count": null,
   "id": "805c4ebe-2f65-4eba-8c12-767c9733444b",
   "metadata": {},
   "outputs": [],
   "source": [
    "import numpy as np\n",
    "import pandas as pd\n",
    "import matplotlib.pyplot as plt\n",
    "\n",
    "import xarray as xr\n",
    "import os\n",
    "\n",
    "import hydrofunctions as hf\n",
    "%matplotlib inline"
   ]
  },
  {
   "cell_type": "code",
   "execution_count": null,
   "id": "5a2ad93e-0162-4d23-90d0-9fef935b9dba",
   "metadata": {
    "tags": []
   },
   "outputs": [],
   "source": [
    "start_date = \"2021-11-10\"\n",
    "end_date = \"2021-12-10\"\n",
    "date_list = pd.date_range(start_date, end_date).to_list()"
   ]
  },
  {
   "cell_type": "code",
   "execution_count": null,
   "id": "7fea053c-7336-4170-8e2d-b1f7639106f6",
   "metadata": {
    "tags": []
   },
   "outputs": [],
   "source": [
    "precip = xr.open_dataset(f'climate_data/ppt_{start_date}-{end_date}.nc')\n",
    "tmean = xr.open_dataset(f'climate_data/tmean_{start_date}-{end_date}.nc')\n",
    "snow_accumulation = xr.open_dataset(f'climate_data/snow_{start_date}-{end_date}.nc')\n",
    "snow_change = xr.open_dataset(f'climate_data/snow_change_{start_date}-{end_date}.nc')"
   ]
  },
  {
   "cell_type": "code",
   "execution_count": null,
   "id": "865aa87b-e3b1-4661-a455-0124053ea90e",
   "metadata": {
    "tags": []
   },
   "outputs": [],
   "source": [
    "total_runoff = []\n",
    "for i in range(len(date_list)):\n",
    "    runoff = precip['ppt'].isel(date=i) - snow_change['__xarray_dataarray_variable__'].isel(date=i)\n",
    "    runoff.coords['date'] = date_list[i]\n",
    "    total_runoff.append(runoff)\n",
    "\n",
    "total_runoff = xr.concat(total_runoff, 'date')"
   ]
  },
  {
   "cell_type": "code",
   "execution_count": null,
   "id": "5888c21b-3a8d-445e-986a-5055a8d4e28b",
   "metadata": {
    "tags": []
   },
   "outputs": [],
   "source": [
    "total_runoff_volume_gridded = total_runoff * (10**-3) * (4000*4000)\n",
    "total_runoff_volume_gridded.isel(date=slice(0, 31, 1)).plot.imshow(col = 'date', col_wrap = 3, vmin = 0)"
   ]
  },
  {
   "cell_type": "code",
   "execution_count": null,
   "id": "f9474bb8-cffe-4234-8139-e51d163ca0c8",
   "metadata": {
    "tags": []
   },
   "outputs": [],
   "source": [
    "daily_runoff_volume = total_runoff_volume_gridded.sum(dim = ('lat', 'lon'))"
   ]
  },
  {
   "cell_type": "code",
   "execution_count": null,
   "id": "c287905e-f7c5-4634-a852-044ce1eed664",
   "metadata": {
    "tags": []
   },
   "outputs": [],
   "source": [
    "daily_runoff_volume"
   ]
  },
  {
   "cell_type": "code",
   "execution_count": null,
   "id": "4950965e-3676-4c2d-9593-0062ecdbcd83",
   "metadata": {
    "tags": []
   },
   "outputs": [],
   "source": [
    "discharge_df = pd.read_parquet('discharge_data/everson.parquet', engine = 'pyarrow')"
   ]
  },
  {
   "cell_type": "code",
   "execution_count": null,
   "id": "aef6af0b-1b0b-450d-9bd7-c6c3a2690b6f",
   "metadata": {
    "tags": []
   },
   "outputs": [],
   "source": [
    "discharge_df.head()"
   ]
  },
  {
   "cell_type": "code",
   "execution_count": null,
   "id": "e0fc2fda-427d-4d3d-84c5-9b7f8c38893f",
   "metadata": {
    "tags": []
   },
   "outputs": [],
   "source": [
    "daily_discharge_volume = discharge_df['USGS:12211200:00060:00003']*60*60*24/35.314666212661"
   ]
  },
  {
   "cell_type": "code",
   "execution_count": null,
   "id": "48f38131-a3a9-45e1-ada2-066627dc0696",
   "metadata": {
    "tags": []
   },
   "outputs": [],
   "source": [
    "daily_streamflow_difference = []\n",
    "for i in range(len(date_list)):\n",
    "    daily_delta = daily_runoff_volume.isel(date=i).values - daily_discharge_volume.iloc[i]\n",
    "    daily_streamflow_difference.append(daily_delta)"
   ]
  },
  {
   "cell_type": "code",
   "execution_count": null,
   "id": "fcddcd04-d162-468a-b050-45222b796452",
   "metadata": {
    "tags": []
   },
   "outputs": [],
   "source": [
    "daily_streamflow_difference"
   ]
  },
  {
   "cell_type": "code",
   "execution_count": null,
   "id": "92ec680a-d2cd-4e9c-a3ed-50787769e636",
   "metadata": {
    "tags": []
   },
   "outputs": [],
   "source": [
    "f, a = plt.subplots()\n",
    "a.plot(date_list, daily_streamflow_difference)\n",
    "a.axhline(0, color = 'k')"
   ]
  }
 ],
 "metadata": {
  "kernelspec": {
   "display_name": "Python 3 (ipykernel)",
   "language": "python",
   "name": "python3"
  },
  "language_info": {
   "codemirror_mode": {
    "name": "ipython",
    "version": 3
   },
   "file_extension": ".py",
   "mimetype": "text/x-python",
   "name": "python",
   "nbconvert_exporter": "python",
   "pygments_lexer": "ipython3",
   "version": "3.10.9"
  }
 },
 "nbformat": 4,
 "nbformat_minor": 5
}
