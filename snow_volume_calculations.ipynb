{
 "cells": [
  {
   "cell_type": "code",
   "execution_count": null,
   "id": "653c1799-cf41-4450-8abc-c39ee4835537",
   "metadata": {},
   "outputs": [],
   "source": [
    "import numpy as np\n",
    "import xarray as xr\n",
    "import matplotlib.pyplot as plt\n",
    "import pandas as pd"
   ]
  },
  {
   "cell_type": "code",
   "execution_count": null,
   "id": "5798d2a0-af0b-4227-9a3d-ed9b7b897b37",
   "metadata": {
    "tags": []
   },
   "outputs": [],
   "source": [
    "start_date = \"2021-11-10\"\n",
    "end_date = \"2021-12-10\"\n",
    "date_list = pd.date_range(start_date, end_date).to_list()"
   ]
  },
  {
   "cell_type": "code",
   "execution_count": null,
   "id": "595dbd27-f433-462c-ac06-80c6aff514da",
   "metadata": {
    "tags": []
   },
   "outputs": [],
   "source": [
    "precip = xr.open_dataset(f'precip_data/ppt_{start_date}-{end_date}.nc')\n",
    "tmean = xr.open_dataset(f'precip_data/tmean_{start_date}-{end_date}.nc')"
   ]
  },
  {
   "cell_type": "code",
   "execution_count": null,
   "id": "eed10db7-cc0c-4446-b3a9-4cfaaf53e06c",
   "metadata": {
    "tags": []
   },
   "outputs": [],
   "source": [
    "precip.lat.values"
   ]
  },
  {
   "cell_type": "code",
   "execution_count": null,
   "id": "85cbb9b1-49ba-48ab-b22d-ce735eb54c0d",
   "metadata": {
    "tags": []
   },
   "outputs": [],
   "source": [
    "snow_threshold = 0 # degrees celsius\n",
    "mf = 5 # melt factor, mm/degree celsius that snow melts when T>snow threshold\n",
    "\n",
    "snow_accum = np.zeros((12, 21))\n",
    "\n",
    "dss = []\n",
    "\n",
    "first_day_precip = precip['ppt'].sel(date=date_list[0])\n",
    "first_day_temp = tmean['tmean'].sel(date=date_list[0])\n",
    "first_day_snowfall = np.where(first_day_temp < snow_threshold, first_day_precip, 0)\n",
    "\n",
    "net_snow_da = xr.DataArray(first_day_snowfall,\n",
    "                            dims=['lat', 'lon'],\n",
    "                            coords={'lat': precip.lat.values,\n",
    "                                    'lon': precip.lon.values})\n",
    "\n",
    "net_snow_da = net_snow_da.expand_dims(dim = 'date')\n",
    "net_snow_da.coords['date'] = ('date', [date_list[0]])\n",
    "\n",
    "dss.append(net_snow_da)\n",
    "\n",
    "for date in date_list[1:]:\n",
    "    # get precip and temp for the current loop\n",
    "    date_precip = precip['ppt'].sel(date=date)\n",
    "    date_temp = tmean['tmean'].sel(date=date)\n",
    "    \n",
    "    # get net snowfall/melt for the day\n",
    "    date_snowfall = np.where(date_temp < snow_threshold, date_precip, 0)\n",
    "    date_snowmelt = np.where(date_temp > snow_threshold, mf*(date_temp - snow_threshold), 0)\n",
    "    net_snow_per_day = date_snowfall - date_snowmelt\n",
    "    \n",
    "    # get accumulated snow so far\n",
    "    net_snow_total = net_snow_da + net_snow_per_day\n",
    "    \n",
    "    # remove negative values (can't have negative snow)\n",
    "    net_snow_idx = (net_snow_total < 0)\n",
    "    net_snow_total = xr.where(net_snow_idx, 0, net_snow_total)\n",
    "    \n",
    "    net_snow_da = 0\n",
    "    \n",
    "    net_snow_da = xr.DataArray(net_snow_total,\n",
    "                            dims=['date', 'lat', 'lon'],\n",
    "                            coords={'date': [date],\n",
    "                                    'lat': precip.lat.values,\n",
    "                                    'lon': precip.lon.values})\n",
    "    \n",
    "    dss.append(net_snow_da)\n",
    "    \n",
    "final_snow = xr.concat(dss[1:30], 'date')"
   ]
  },
  {
   "cell_type": "code",
   "execution_count": null,
   "id": "8b0fa58d-83c3-4cf7-96d8-14de43c4afd7",
   "metadata": {
    "tags": []
   },
   "outputs": [],
   "source": [
    "final_snow.isel(date=slice(0, 31, 1)).plot.imshow(col = 'date', col_wrap = 3, vmin = 0, vmax = 20)"
   ]
  },
  {
   "cell_type": "code",
   "execution_count": null,
   "id": "720507ac-acb5-4e2f-aa12-28a97813d103",
   "metadata": {},
   "outputs": [],
   "source": []
  }
 ],
 "metadata": {
  "kernelspec": {
   "display_name": "Python 3 (ipykernel)",
   "language": "python",
   "name": "python3"
  },
  "language_info": {
   "codemirror_mode": {
    "name": "ipython",
    "version": 3
   },
   "file_extension": ".py",
   "mimetype": "text/x-python",
   "name": "python",
   "nbconvert_exporter": "python",
   "pygments_lexer": "ipython3",
   "version": "3.10.9"
  }
 },
 "nbformat": 4,
 "nbformat_minor": 5
}
